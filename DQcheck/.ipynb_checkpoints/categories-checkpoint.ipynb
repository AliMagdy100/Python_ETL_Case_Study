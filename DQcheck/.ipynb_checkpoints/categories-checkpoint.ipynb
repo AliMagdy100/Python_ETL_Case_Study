{
 "cells": [
  {
   "cell_type": "code",
   "execution_count": 4,
   "id": "53511281",
   "metadata": {},
   "outputs": [],
   "source": [
    "import pandas as pd"
   ]
  },
  {
   "cell_type": "code",
   "execution_count": 5,
   "id": "b3624fcf",
   "metadata": {},
   "outputs": [
    {
     "data": {
      "text/html": [
       "<div>\n",
       "<style scoped>\n",
       "    .dataframe tbody tr th:only-of-type {\n",
       "        vertical-align: middle;\n",
       "    }\n",
       "\n",
       "    .dataframe tbody tr th {\n",
       "        vertical-align: top;\n",
       "    }\n",
       "\n",
       "    .dataframe thead th {\n",
       "        text-align: right;\n",
       "    }\n",
       "</style>\n",
       "<table border=\"1\" class=\"dataframe\">\n",
       "  <thead>\n",
       "    <tr style=\"text-align: right;\">\n",
       "      <th></th>\n",
       "      <th>category_id</th>\n",
       "      <th>category_name</th>\n",
       "      <th>extraction_time</th>\n",
       "      <th>source_folder</th>\n",
       "    </tr>\n",
       "  </thead>\n",
       "  <tbody>\n",
       "    <tr>\n",
       "      <th>0</th>\n",
       "      <td>1</td>\n",
       "      <td>Children Bicycles</td>\n",
       "      <td>2024-04-29 12:14:14.229045</td>\n",
       "      <td>datalake/bikestore_dim/categories</td>\n",
       "    </tr>\n",
       "    <tr>\n",
       "      <th>1</th>\n",
       "      <td>2</td>\n",
       "      <td>Comfort Bicycles</td>\n",
       "      <td>2024-04-29 12:14:14.229045</td>\n",
       "      <td>datalake/bikestore_dim/categories</td>\n",
       "    </tr>\n",
       "    <tr>\n",
       "      <th>2</th>\n",
       "      <td>3</td>\n",
       "      <td>Cruisers Bicycles</td>\n",
       "      <td>2024-04-29 12:14:14.229045</td>\n",
       "      <td>datalake/bikestore_dim/categories</td>\n",
       "    </tr>\n",
       "    <tr>\n",
       "      <th>3</th>\n",
       "      <td>4</td>\n",
       "      <td>Cyclocross Bicycles</td>\n",
       "      <td>2024-04-29 12:14:14.229045</td>\n",
       "      <td>datalake/bikestore_dim/categories</td>\n",
       "    </tr>\n",
       "    <tr>\n",
       "      <th>4</th>\n",
       "      <td>5</td>\n",
       "      <td>Electric Bikes</td>\n",
       "      <td>2024-04-29 12:14:14.229045</td>\n",
       "      <td>datalake/bikestore_dim/categories</td>\n",
       "    </tr>\n",
       "    <tr>\n",
       "      <th>5</th>\n",
       "      <td>6</td>\n",
       "      <td>Mountain Bikes</td>\n",
       "      <td>2024-04-29 12:14:14.229045</td>\n",
       "      <td>datalake/bikestore_dim/categories</td>\n",
       "    </tr>\n",
       "    <tr>\n",
       "      <th>6</th>\n",
       "      <td>7</td>\n",
       "      <td>Road Bikes</td>\n",
       "      <td>2024-04-29 12:14:14.229045</td>\n",
       "      <td>datalake/bikestore_dim/categories</td>\n",
       "    </tr>\n",
       "  </tbody>\n",
       "</table>\n",
       "</div>"
      ],
      "text/plain": [
       "   category_id        category_name             extraction_time  \\\n",
       "0            1    Children Bicycles  2024-04-29 12:14:14.229045   \n",
       "1            2     Comfort Bicycles  2024-04-29 12:14:14.229045   \n",
       "2            3    Cruisers Bicycles  2024-04-29 12:14:14.229045   \n",
       "3            4  Cyclocross Bicycles  2024-04-29 12:14:14.229045   \n",
       "4            5       Electric Bikes  2024-04-29 12:14:14.229045   \n",
       "5            6       Mountain Bikes  2024-04-29 12:14:14.229045   \n",
       "6            7           Road Bikes  2024-04-29 12:14:14.229045   \n",
       "\n",
       "                       source_folder  \n",
       "0  datalake/bikestore_dim/categories  \n",
       "1  datalake/bikestore_dim/categories  \n",
       "2  datalake/bikestore_dim/categories  \n",
       "3  datalake/bikestore_dim/categories  \n",
       "4  datalake/bikestore_dim/categories  \n",
       "5  datalake/bikestore_dim/categories  \n",
       "6  datalake/bikestore_dim/categories  "
      ]
     },
     "execution_count": 5,
     "metadata": {},
     "output_type": "execute_result"
    }
   ],
   "source": [
    "categories = pd.read_csv('../landing/categories/categories.csv')\n",
    "categories"
   ]
  },
  {
   "cell_type": "code",
   "execution_count": 6,
   "id": "d66a9f89",
   "metadata": {},
   "outputs": [
    {
     "data": {
      "text/plain": [
       "0"
      ]
     },
     "execution_count": 6,
     "metadata": {},
     "output_type": "execute_result"
    }
   ],
   "source": [
    "categories.duplicated().sum()"
   ]
  },
  {
   "cell_type": "code",
   "execution_count": 7,
   "id": "d3c017d7",
   "metadata": {},
   "outputs": [
    {
     "data": {
      "text/plain": [
       "category_id        0\n",
       "category_name      0\n",
       "extraction_time    0\n",
       "source_folder      0\n",
       "dtype: int64"
      ]
     },
     "execution_count": 7,
     "metadata": {},
     "output_type": "execute_result"
    }
   ],
   "source": [
    "categories.isnull().sum()"
   ]
  },
  {
   "cell_type": "code",
   "execution_count": 7,
   "id": "728e4d63",
   "metadata": {},
   "outputs": [],
   "source": [
    "categories.to_csv('../staging_1/categories/categories.csv', index = False)"
   ]
  }
 ],
 "metadata": {
  "kernelspec": {
   "display_name": "Python 3 (ipykernel)",
   "language": "python",
   "name": "python3"
  },
  "language_info": {
   "codemirror_mode": {
    "name": "ipython",
    "version": 3
   },
   "file_extension": ".py",
   "mimetype": "text/x-python",
   "name": "python",
   "nbconvert_exporter": "python",
   "pygments_lexer": "ipython3",
   "version": "3.9.12"
  }
 },
 "nbformat": 4,
 "nbformat_minor": 5
}
