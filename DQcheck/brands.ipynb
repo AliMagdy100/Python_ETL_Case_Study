{
 "cells": [
  {
   "cell_type": "code",
   "execution_count": 6,
   "id": "9d1609a4",
   "metadata": {},
   "outputs": [],
   "source": [
    "import pandas as pd"
   ]
  },
  {
   "cell_type": "code",
   "execution_count": 7,
   "id": "a508ca77",
   "metadata": {},
   "outputs": [
    {
     "data": {
      "text/html": [
       "<div>\n",
       "<style scoped>\n",
       "    .dataframe tbody tr th:only-of-type {\n",
       "        vertical-align: middle;\n",
       "    }\n",
       "\n",
       "    .dataframe tbody tr th {\n",
       "        vertical-align: top;\n",
       "    }\n",
       "\n",
       "    .dataframe thead th {\n",
       "        text-align: right;\n",
       "    }\n",
       "</style>\n",
       "<table border=\"1\" class=\"dataframe\">\n",
       "  <thead>\n",
       "    <tr style=\"text-align: right;\">\n",
       "      <th></th>\n",
       "      <th>brand_id</th>\n",
       "      <th>brand_name</th>\n",
       "      <th>extraction_time</th>\n",
       "      <th>source_folder</th>\n",
       "    </tr>\n",
       "  </thead>\n",
       "  <tbody>\n",
       "    <tr>\n",
       "      <th>0</th>\n",
       "      <td>1</td>\n",
       "      <td>Electra</td>\n",
       "      <td>2024-04-29 12:14:14.125631</td>\n",
       "      <td>datalake/bikestore_dim/brands</td>\n",
       "    </tr>\n",
       "    <tr>\n",
       "      <th>1</th>\n",
       "      <td>2</td>\n",
       "      <td>Haro</td>\n",
       "      <td>2024-04-29 12:14:14.125631</td>\n",
       "      <td>datalake/bikestore_dim/brands</td>\n",
       "    </tr>\n",
       "    <tr>\n",
       "      <th>2</th>\n",
       "      <td>3</td>\n",
       "      <td>Heller</td>\n",
       "      <td>2024-04-29 12:14:14.125631</td>\n",
       "      <td>datalake/bikestore_dim/brands</td>\n",
       "    </tr>\n",
       "    <tr>\n",
       "      <th>3</th>\n",
       "      <td>4</td>\n",
       "      <td>Pure Cycles</td>\n",
       "      <td>2024-04-29 12:14:14.125631</td>\n",
       "      <td>datalake/bikestore_dim/brands</td>\n",
       "    </tr>\n",
       "    <tr>\n",
       "      <th>4</th>\n",
       "      <td>5</td>\n",
       "      <td>Ritchey</td>\n",
       "      <td>2024-04-29 12:14:14.125631</td>\n",
       "      <td>datalake/bikestore_dim/brands</td>\n",
       "    </tr>\n",
       "    <tr>\n",
       "      <th>5</th>\n",
       "      <td>6</td>\n",
       "      <td>Strider</td>\n",
       "      <td>2024-04-29 12:14:14.125631</td>\n",
       "      <td>datalake/bikestore_dim/brands</td>\n",
       "    </tr>\n",
       "    <tr>\n",
       "      <th>6</th>\n",
       "      <td>7</td>\n",
       "      <td>Sun Bicycles</td>\n",
       "      <td>2024-04-29 12:14:14.125631</td>\n",
       "      <td>datalake/bikestore_dim/brands</td>\n",
       "    </tr>\n",
       "    <tr>\n",
       "      <th>7</th>\n",
       "      <td>8</td>\n",
       "      <td>Surly</td>\n",
       "      <td>2024-04-29 12:14:14.125631</td>\n",
       "      <td>datalake/bikestore_dim/brands</td>\n",
       "    </tr>\n",
       "    <tr>\n",
       "      <th>8</th>\n",
       "      <td>9</td>\n",
       "      <td>Trek</td>\n",
       "      <td>2024-04-29 12:14:14.125631</td>\n",
       "      <td>datalake/bikestore_dim/brands</td>\n",
       "    </tr>\n",
       "  </tbody>\n",
       "</table>\n",
       "</div>"
      ],
      "text/plain": [
       "   brand_id    brand_name             extraction_time  \\\n",
       "0         1       Electra  2024-04-29 12:14:14.125631   \n",
       "1         2          Haro  2024-04-29 12:14:14.125631   \n",
       "2         3        Heller  2024-04-29 12:14:14.125631   \n",
       "3         4   Pure Cycles  2024-04-29 12:14:14.125631   \n",
       "4         5       Ritchey  2024-04-29 12:14:14.125631   \n",
       "5         6       Strider  2024-04-29 12:14:14.125631   \n",
       "6         7  Sun Bicycles  2024-04-29 12:14:14.125631   \n",
       "7         8         Surly  2024-04-29 12:14:14.125631   \n",
       "8         9          Trek  2024-04-29 12:14:14.125631   \n",
       "\n",
       "                   source_folder  \n",
       "0  datalake/bikestore_dim/brands  \n",
       "1  datalake/bikestore_dim/brands  \n",
       "2  datalake/bikestore_dim/brands  \n",
       "3  datalake/bikestore_dim/brands  \n",
       "4  datalake/bikestore_dim/brands  \n",
       "5  datalake/bikestore_dim/brands  \n",
       "6  datalake/bikestore_dim/brands  \n",
       "7  datalake/bikestore_dim/brands  \n",
       "8  datalake/bikestore_dim/brands  "
      ]
     },
     "execution_count": 7,
     "metadata": {},
     "output_type": "execute_result"
    }
   ],
   "source": [
    "brands = pd.read_csv('../landing/brands/brands.csv')\n",
    "brands"
   ]
  },
  {
   "cell_type": "code",
   "execution_count": 8,
   "id": "2a6c92bc",
   "metadata": {},
   "outputs": [
    {
     "data": {
      "text/plain": [
       "0"
      ]
     },
     "execution_count": 8,
     "metadata": {},
     "output_type": "execute_result"
    }
   ],
   "source": [
    "brands.duplicated().sum()"
   ]
  },
  {
   "cell_type": "code",
   "execution_count": 9,
   "id": "c6379de2",
   "metadata": {},
   "outputs": [
    {
     "data": {
      "text/plain": [
       "brand_id           0\n",
       "brand_name         0\n",
       "extraction_time    0\n",
       "source_folder      0\n",
       "dtype: int64"
      ]
     },
     "execution_count": 9,
     "metadata": {},
     "output_type": "execute_result"
    }
   ],
   "source": [
    "brands.isnull().sum()"
   ]
  },
  {
   "cell_type": "code",
   "execution_count": 5,
   "id": "73df8110",
   "metadata": {},
   "outputs": [],
   "source": [
    "brands.to_csv('../staging_1/brands/brands.csv', index = False)"
   ]
  }
 ],
 "metadata": {
  "kernelspec": {
   "display_name": "Python 3 (ipykernel)",
   "language": "python",
   "name": "python3"
  },
  "language_info": {
   "codemirror_mode": {
    "name": "ipython",
    "version": 3
   },
   "file_extension": ".py",
   "mimetype": "text/x-python",
   "name": "python",
   "nbconvert_exporter": "python",
   "pygments_lexer": "ipython3",
   "version": "3.9.12"
  }
 },
 "nbformat": 4,
 "nbformat_minor": 5
}
