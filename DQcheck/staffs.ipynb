{
 "cells": [
  {
   "cell_type": "code",
   "execution_count": 1,
   "id": "7ed30667",
   "metadata": {},
   "outputs": [],
   "source": [
    "import pandas as pd"
   ]
  },
  {
   "cell_type": "code",
   "execution_count": 2,
   "id": "208e873d",
   "metadata": {},
   "outputs": [
    {
     "data": {
      "text/html": [
       "<div>\n",
       "<style scoped>\n",
       "    .dataframe tbody tr th:only-of-type {\n",
       "        vertical-align: middle;\n",
       "    }\n",
       "\n",
       "    .dataframe tbody tr th {\n",
       "        vertical-align: top;\n",
       "    }\n",
       "\n",
       "    .dataframe thead th {\n",
       "        text-align: right;\n",
       "    }\n",
       "</style>\n",
       "<table border=\"1\" class=\"dataframe\">\n",
       "  <thead>\n",
       "    <tr style=\"text-align: right;\">\n",
       "      <th></th>\n",
       "      <th>staff_id</th>\n",
       "      <th>first_name</th>\n",
       "      <th>last_name</th>\n",
       "      <th>email</th>\n",
       "      <th>phone</th>\n",
       "      <th>active</th>\n",
       "      <th>store_id</th>\n",
       "      <th>manager_id</th>\n",
       "      <th>extraction_time</th>\n",
       "      <th>source_folder</th>\n",
       "    </tr>\n",
       "  </thead>\n",
       "  <tbody>\n",
       "    <tr>\n",
       "      <th>0</th>\n",
       "      <td>1</td>\n",
       "      <td>Fabiola</td>\n",
       "      <td>Jackson</td>\n",
       "      <td>fabiola.jackson@bikes.shop</td>\n",
       "      <td>NaN</td>\n",
       "      <td>1</td>\n",
       "      <td>NaN</td>\n",
       "      <td>NaN</td>\n",
       "      <td>2024-04-29 12:14:14.283967</td>\n",
       "      <td>datalake/bikestore_dim/staffs</td>\n",
       "    </tr>\n",
       "    <tr>\n",
       "      <th>1</th>\n",
       "      <td>2</td>\n",
       "      <td>Mireya</td>\n",
       "      <td>NaN</td>\n",
       "      <td>mireya.copeland@bikes.shop</td>\n",
       "      <td>(831) 555-5555</td>\n",
       "      <td>1</td>\n",
       "      <td>1.0</td>\n",
       "      <td>1.0</td>\n",
       "      <td>2024-04-29 12:14:14.283967</td>\n",
       "      <td>datalake/bikestore_dim/staffs</td>\n",
       "    </tr>\n",
       "    <tr>\n",
       "      <th>2</th>\n",
       "      <td>3</td>\n",
       "      <td>Genna</td>\n",
       "      <td>Serrano</td>\n",
       "      <td>genna.serrano@bikes.shop</td>\n",
       "      <td>(831) 555-5556</td>\n",
       "      <td>1</td>\n",
       "      <td>1.0</td>\n",
       "      <td>2.0</td>\n",
       "      <td>2024-04-29 12:14:14.283967</td>\n",
       "      <td>datalake/bikestore_dim/staffs</td>\n",
       "    </tr>\n",
       "    <tr>\n",
       "      <th>3</th>\n",
       "      <td>4</td>\n",
       "      <td>Virgie</td>\n",
       "      <td>Wiggins</td>\n",
       "      <td>virgie.wiggins@bikes.shop</td>\n",
       "      <td>(831) 555-5557</td>\n",
       "      <td>1</td>\n",
       "      <td>1.0</td>\n",
       "      <td>2.0</td>\n",
       "      <td>2024-04-29 12:14:14.283967</td>\n",
       "      <td>datalake/bikestore_dim/staffs</td>\n",
       "    </tr>\n",
       "    <tr>\n",
       "      <th>4</th>\n",
       "      <td>5</td>\n",
       "      <td>Jannette</td>\n",
       "      <td>David</td>\n",
       "      <td>jannette.david@bikes.shop</td>\n",
       "      <td>(516) 379-4444</td>\n",
       "      <td>1</td>\n",
       "      <td>2.0</td>\n",
       "      <td>1.0</td>\n",
       "      <td>2024-04-29 12:14:14.283967</td>\n",
       "      <td>datalake/bikestore_dim/staffs</td>\n",
       "    </tr>\n",
       "    <tr>\n",
       "      <th>5</th>\n",
       "      <td>6</td>\n",
       "      <td>Marcelene</td>\n",
       "      <td>Boyer</td>\n",
       "      <td>NaN</td>\n",
       "      <td>(516) 379-4445</td>\n",
       "      <td>1</td>\n",
       "      <td>2.0</td>\n",
       "      <td>5.0</td>\n",
       "      <td>2024-04-29 12:14:14.283967</td>\n",
       "      <td>datalake/bikestore_dim/staffs</td>\n",
       "    </tr>\n",
       "    <tr>\n",
       "      <th>6</th>\n",
       "      <td>7</td>\n",
       "      <td>Venita</td>\n",
       "      <td>Daniel</td>\n",
       "      <td>venita.daniel@bikes.shop</td>\n",
       "      <td>NaN</td>\n",
       "      <td>1</td>\n",
       "      <td>2.0</td>\n",
       "      <td>5.0</td>\n",
       "      <td>2024-04-29 12:14:14.283967</td>\n",
       "      <td>datalake/bikestore_dim/staffs</td>\n",
       "    </tr>\n",
       "    <tr>\n",
       "      <th>7</th>\n",
       "      <td>8</td>\n",
       "      <td>Kali</td>\n",
       "      <td>Vargas</td>\n",
       "      <td>kali.vargas@bikes.shop</td>\n",
       "      <td>(972) 530-5555</td>\n",
       "      <td>1</td>\n",
       "      <td>3.0</td>\n",
       "      <td>1.0</td>\n",
       "      <td>2024-04-29 12:14:14.283967</td>\n",
       "      <td>datalake/bikestore_dim/staffs</td>\n",
       "    </tr>\n",
       "    <tr>\n",
       "      <th>8</th>\n",
       "      <td>9</td>\n",
       "      <td>Layla</td>\n",
       "      <td>Terrell</td>\n",
       "      <td>layla.terrell@bikes.shop</td>\n",
       "      <td>(972) 530-5556</td>\n",
       "      <td>1</td>\n",
       "      <td>3.0</td>\n",
       "      <td>7.0</td>\n",
       "      <td>2024-04-29 12:14:14.283967</td>\n",
       "      <td>datalake/bikestore_dim/staffs</td>\n",
       "    </tr>\n",
       "    <tr>\n",
       "      <th>9</th>\n",
       "      <td>10</td>\n",
       "      <td>Bernardine</td>\n",
       "      <td>Houston</td>\n",
       "      <td>bernardine.houston@bikes.shop</td>\n",
       "      <td>(972) 530-5557</td>\n",
       "      <td>1</td>\n",
       "      <td>3.0</td>\n",
       "      <td>7.0</td>\n",
       "      <td>2024-04-29 12:14:14.283967</td>\n",
       "      <td>datalake/bikestore_dim/staffs</td>\n",
       "    </tr>\n",
       "  </tbody>\n",
       "</table>\n",
       "</div>"
      ],
      "text/plain": [
       "   staff_id  first_name last_name                          email  \\\n",
       "0         1     Fabiola   Jackson     fabiola.jackson@bikes.shop   \n",
       "1         2      Mireya       NaN     mireya.copeland@bikes.shop   \n",
       "2         3       Genna   Serrano       genna.serrano@bikes.shop   \n",
       "3         4      Virgie   Wiggins      virgie.wiggins@bikes.shop   \n",
       "4         5    Jannette     David      jannette.david@bikes.shop   \n",
       "5         6   Marcelene     Boyer                            NaN   \n",
       "6         7      Venita    Daniel       venita.daniel@bikes.shop   \n",
       "7         8        Kali    Vargas         kali.vargas@bikes.shop   \n",
       "8         9       Layla   Terrell       layla.terrell@bikes.shop   \n",
       "9        10  Bernardine   Houston  bernardine.houston@bikes.shop   \n",
       "\n",
       "            phone  active  store_id  manager_id             extraction_time  \\\n",
       "0             NaN       1       NaN         NaN  2024-04-29 12:14:14.283967   \n",
       "1  (831) 555-5555       1       1.0         1.0  2024-04-29 12:14:14.283967   \n",
       "2  (831) 555-5556       1       1.0         2.0  2024-04-29 12:14:14.283967   \n",
       "3  (831) 555-5557       1       1.0         2.0  2024-04-29 12:14:14.283967   \n",
       "4  (516) 379-4444       1       2.0         1.0  2024-04-29 12:14:14.283967   \n",
       "5  (516) 379-4445       1       2.0         5.0  2024-04-29 12:14:14.283967   \n",
       "6             NaN       1       2.0         5.0  2024-04-29 12:14:14.283967   \n",
       "7  (972) 530-5555       1       3.0         1.0  2024-04-29 12:14:14.283967   \n",
       "8  (972) 530-5556       1       3.0         7.0  2024-04-29 12:14:14.283967   \n",
       "9  (972) 530-5557       1       3.0         7.0  2024-04-29 12:14:14.283967   \n",
       "\n",
       "                   source_folder  \n",
       "0  datalake/bikestore_dim/staffs  \n",
       "1  datalake/bikestore_dim/staffs  \n",
       "2  datalake/bikestore_dim/staffs  \n",
       "3  datalake/bikestore_dim/staffs  \n",
       "4  datalake/bikestore_dim/staffs  \n",
       "5  datalake/bikestore_dim/staffs  \n",
       "6  datalake/bikestore_dim/staffs  \n",
       "7  datalake/bikestore_dim/staffs  \n",
       "8  datalake/bikestore_dim/staffs  \n",
       "9  datalake/bikestore_dim/staffs  "
      ]
     },
     "execution_count": 2,
     "metadata": {},
     "output_type": "execute_result"
    }
   ],
   "source": [
    "staffs = pd.read_csv('../landing/staffs/staffs.csv')\n",
    "staffs"
   ]
  },
  {
   "cell_type": "code",
   "execution_count": 3,
   "id": "a9e69989",
   "metadata": {},
   "outputs": [
    {
     "name": "stdout",
     "output_type": "stream",
     "text": [
      "<class 'pandas.core.frame.DataFrame'>\n",
      "RangeIndex: 10 entries, 0 to 9\n",
      "Data columns (total 10 columns):\n",
      " #   Column           Non-Null Count  Dtype  \n",
      "---  ------           --------------  -----  \n",
      " 0   staff_id         10 non-null     int64  \n",
      " 1   first_name       10 non-null     object \n",
      " 2   last_name        9 non-null      object \n",
      " 3   email            9 non-null      object \n",
      " 4   phone            8 non-null      object \n",
      " 5   active           10 non-null     int64  \n",
      " 6   store_id         9 non-null      float64\n",
      " 7   manager_id       9 non-null      float64\n",
      " 8   extraction_time  10 non-null     object \n",
      " 9   source_folder    10 non-null     object \n",
      "dtypes: float64(2), int64(2), object(6)\n",
      "memory usage: 928.0+ bytes\n"
     ]
    }
   ],
   "source": [
    "staffs.info()"
   ]
  },
  {
   "cell_type": "code",
   "execution_count": 4,
   "id": "137b2eaa",
   "metadata": {},
   "outputs": [
    {
     "data": {
      "text/plain": [
       "0"
      ]
     },
     "execution_count": 4,
     "metadata": {},
     "output_type": "execute_result"
    }
   ],
   "source": [
    "staffs.duplicated().sum()"
   ]
  },
  {
   "cell_type": "code",
   "execution_count": 5,
   "id": "146738a3",
   "metadata": {},
   "outputs": [
    {
     "data": {
      "text/plain": [
       "staff_id           0\n",
       "first_name         0\n",
       "last_name          1\n",
       "email              1\n",
       "phone              2\n",
       "active             0\n",
       "store_id           1\n",
       "manager_id         1\n",
       "extraction_time    0\n",
       "source_folder      0\n",
       "dtype: int64"
      ]
     },
     "execution_count": 5,
     "metadata": {},
     "output_type": "execute_result"
    }
   ],
   "source": [
    "staffs.isnull().sum()"
   ]
  },
  {
   "cell_type": "code",
   "execution_count": 6,
   "id": "985d5b9b",
   "metadata": {},
   "outputs": [],
   "source": [
    "staffs=staffs.dropna()"
   ]
  },
  {
   "cell_type": "code",
   "execution_count": 7,
   "id": "b4cd4971",
   "metadata": {},
   "outputs": [
    {
     "data": {
      "text/plain": [
       "staff_id           0\n",
       "first_name         0\n",
       "last_name          0\n",
       "email              0\n",
       "phone              0\n",
       "active             0\n",
       "store_id           0\n",
       "manager_id         0\n",
       "extraction_time    0\n",
       "source_folder      0\n",
       "dtype: int64"
      ]
     },
     "execution_count": 7,
     "metadata": {},
     "output_type": "execute_result"
    }
   ],
   "source": [
    "staffs.isnull().sum()"
   ]
  },
  {
   "cell_type": "code",
   "execution_count": 9,
   "id": "dd970995",
   "metadata": {},
   "outputs": [],
   "source": [
    "staffs.to_csv('../staging_1/staffs/staffs.csv', index = False)"
   ]
  }
 ],
 "metadata": {
  "kernelspec": {
   "display_name": "Python 3 (ipykernel)",
   "language": "python",
   "name": "python3"
  },
  "language_info": {
   "codemirror_mode": {
    "name": "ipython",
    "version": 3
   },
   "file_extension": ".py",
   "mimetype": "text/x-python",
   "name": "python",
   "nbconvert_exporter": "python",
   "pygments_lexer": "ipython3",
   "version": "3.9.12"
  }
 },
 "nbformat": 4,
 "nbformat_minor": 5
}
