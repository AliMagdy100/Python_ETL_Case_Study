{
 "cells": [
  {
   "cell_type": "code",
   "execution_count": 1,
   "id": "b411f49b",
   "metadata": {},
   "outputs": [],
   "source": [
    "import pandas as pd"
   ]
  },
  {
   "cell_type": "code",
   "execution_count": 2,
   "id": "8b978e06",
   "metadata": {},
   "outputs": [
    {
     "data": {
      "text/html": [
       "<div>\n",
       "<style scoped>\n",
       "    .dataframe tbody tr th:only-of-type {\n",
       "        vertical-align: middle;\n",
       "    }\n",
       "\n",
       "    .dataframe tbody tr th {\n",
       "        vertical-align: top;\n",
       "    }\n",
       "\n",
       "    .dataframe thead th {\n",
       "        text-align: right;\n",
       "    }\n",
       "</style>\n",
       "<table border=\"1\" class=\"dataframe\">\n",
       "  <thead>\n",
       "    <tr style=\"text-align: right;\">\n",
       "      <th></th>\n",
       "      <th>store_id</th>\n",
       "      <th>product_id</th>\n",
       "      <th>quantity</th>\n",
       "      <th>extraction_time</th>\n",
       "      <th>source_folder</th>\n",
       "    </tr>\n",
       "  </thead>\n",
       "  <tbody>\n",
       "    <tr>\n",
       "      <th>0</th>\n",
       "      <td>1</td>\n",
       "      <td>1</td>\n",
       "      <td>27</td>\n",
       "      <td>2024-04-29 12:14:14.288822</td>\n",
       "      <td>datalake/bikestore_dim/stocks</td>\n",
       "    </tr>\n",
       "    <tr>\n",
       "      <th>1</th>\n",
       "      <td>1</td>\n",
       "      <td>2</td>\n",
       "      <td>5</td>\n",
       "      <td>2024-04-29 12:14:14.288822</td>\n",
       "      <td>datalake/bikestore_dim/stocks</td>\n",
       "    </tr>\n",
       "    <tr>\n",
       "      <th>2</th>\n",
       "      <td>1</td>\n",
       "      <td>3</td>\n",
       "      <td>6</td>\n",
       "      <td>2024-04-29 12:14:14.288822</td>\n",
       "      <td>datalake/bikestore_dim/stocks</td>\n",
       "    </tr>\n",
       "    <tr>\n",
       "      <th>3</th>\n",
       "      <td>1</td>\n",
       "      <td>4</td>\n",
       "      <td>23</td>\n",
       "      <td>2024-04-29 12:14:14.288822</td>\n",
       "      <td>datalake/bikestore_dim/stocks</td>\n",
       "    </tr>\n",
       "    <tr>\n",
       "      <th>4</th>\n",
       "      <td>1</td>\n",
       "      <td>5</td>\n",
       "      <td>22</td>\n",
       "      <td>2024-04-29 12:14:14.288822</td>\n",
       "      <td>datalake/bikestore_dim/stocks</td>\n",
       "    </tr>\n",
       "    <tr>\n",
       "      <th>...</th>\n",
       "      <td>...</td>\n",
       "      <td>...</td>\n",
       "      <td>...</td>\n",
       "      <td>...</td>\n",
       "      <td>...</td>\n",
       "    </tr>\n",
       "    <tr>\n",
       "      <th>934</th>\n",
       "      <td>3</td>\n",
       "      <td>309</td>\n",
       "      <td>30</td>\n",
       "      <td>2024-04-29 12:14:14.288822</td>\n",
       "      <td>datalake/bikestore_dim/stocks</td>\n",
       "    </tr>\n",
       "    <tr>\n",
       "      <th>935</th>\n",
       "      <td>3</td>\n",
       "      <td>310</td>\n",
       "      <td>8</td>\n",
       "      <td>2024-04-29 12:14:14.288822</td>\n",
       "      <td>datalake/bikestore_dim/stocks</td>\n",
       "    </tr>\n",
       "    <tr>\n",
       "      <th>936</th>\n",
       "      <td>3</td>\n",
       "      <td>311</td>\n",
       "      <td>23</td>\n",
       "      <td>2024-04-29 12:14:14.288822</td>\n",
       "      <td>datalake/bikestore_dim/stocks</td>\n",
       "    </tr>\n",
       "    <tr>\n",
       "      <th>937</th>\n",
       "      <td>3</td>\n",
       "      <td>312</td>\n",
       "      <td>18</td>\n",
       "      <td>2024-04-29 12:14:14.288822</td>\n",
       "      <td>datalake/bikestore_dim/stocks</td>\n",
       "    </tr>\n",
       "    <tr>\n",
       "      <th>938</th>\n",
       "      <td>3</td>\n",
       "      <td>313</td>\n",
       "      <td>0</td>\n",
       "      <td>2024-04-29 12:14:14.288822</td>\n",
       "      <td>datalake/bikestore_dim/stocks</td>\n",
       "    </tr>\n",
       "  </tbody>\n",
       "</table>\n",
       "<p>939 rows × 5 columns</p>\n",
       "</div>"
      ],
      "text/plain": [
       "     store_id  product_id  quantity             extraction_time  \\\n",
       "0           1           1        27  2024-04-29 12:14:14.288822   \n",
       "1           1           2         5  2024-04-29 12:14:14.288822   \n",
       "2           1           3         6  2024-04-29 12:14:14.288822   \n",
       "3           1           4        23  2024-04-29 12:14:14.288822   \n",
       "4           1           5        22  2024-04-29 12:14:14.288822   \n",
       "..        ...         ...       ...                         ...   \n",
       "934         3         309        30  2024-04-29 12:14:14.288822   \n",
       "935         3         310         8  2024-04-29 12:14:14.288822   \n",
       "936         3         311        23  2024-04-29 12:14:14.288822   \n",
       "937         3         312        18  2024-04-29 12:14:14.288822   \n",
       "938         3         313         0  2024-04-29 12:14:14.288822   \n",
       "\n",
       "                     source_folder  \n",
       "0    datalake/bikestore_dim/stocks  \n",
       "1    datalake/bikestore_dim/stocks  \n",
       "2    datalake/bikestore_dim/stocks  \n",
       "3    datalake/bikestore_dim/stocks  \n",
       "4    datalake/bikestore_dim/stocks  \n",
       "..                             ...  \n",
       "934  datalake/bikestore_dim/stocks  \n",
       "935  datalake/bikestore_dim/stocks  \n",
       "936  datalake/bikestore_dim/stocks  \n",
       "937  datalake/bikestore_dim/stocks  \n",
       "938  datalake/bikestore_dim/stocks  \n",
       "\n",
       "[939 rows x 5 columns]"
      ]
     },
     "execution_count": 2,
     "metadata": {},
     "output_type": "execute_result"
    }
   ],
   "source": [
    "stocks = pd.read_csv('../landing/stocks/stocks.csv')\n",
    "stocks"
   ]
  },
  {
   "cell_type": "code",
   "execution_count": 3,
   "id": "9fe481d3",
   "metadata": {},
   "outputs": [
    {
     "data": {
      "text/plain": [
       "0"
      ]
     },
     "execution_count": 3,
     "metadata": {},
     "output_type": "execute_result"
    }
   ],
   "source": [
    "stocks.duplicated().sum()"
   ]
  },
  {
   "cell_type": "code",
   "execution_count": 4,
   "id": "9cce60a3",
   "metadata": {},
   "outputs": [
    {
     "data": {
      "text/plain": [
       "store_id           0\n",
       "product_id         0\n",
       "quantity           0\n",
       "extraction_time    0\n",
       "source_folder      0\n",
       "dtype: int64"
      ]
     },
     "execution_count": 4,
     "metadata": {},
     "output_type": "execute_result"
    }
   ],
   "source": [
    "stocks.isnull().sum()"
   ]
  },
  {
   "cell_type": "code",
   "execution_count": 5,
   "id": "a857448e",
   "metadata": {},
   "outputs": [],
   "source": [
    "stocks.to_csv('../staging_1/stocks/stocks.csv', index = False)"
   ]
  }
 ],
 "metadata": {
  "kernelspec": {
   "display_name": "Python 3 (ipykernel)",
   "language": "python",
   "name": "python3"
  },
  "language_info": {
   "codemirror_mode": {
    "name": "ipython",
    "version": 3
   },
   "file_extension": ".py",
   "mimetype": "text/x-python",
   "name": "python",
   "nbconvert_exporter": "python",
   "pygments_lexer": "ipython3",
   "version": "3.9.12"
  }
 },
 "nbformat": 4,
 "nbformat_minor": 5
}
