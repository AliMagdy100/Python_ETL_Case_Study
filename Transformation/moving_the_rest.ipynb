{
 "cells": [
  {
   "cell_type": "code",
   "execution_count": 2,
   "id": "875f43eb",
   "metadata": {},
   "outputs": [],
   "source": [
    "import pandas as pd\n",
    "from datetime import datetime\n",
    "import os\n",
    "\n",
    "def csv_to_staging2(csv_file, folder_path):\n",
    "    # Read the CSV file into a DataFrame\n",
    "    df = pd.read_csv('..'+'/'+folder_path+'/'+csv_file)\n",
    "\n",
    "    # Create the target directory if it does not exist\n",
    "    target_directory = '../staging_2/' + csv_file.split(\".\")[0]\n",
    "    if not os.path.exists(target_directory):\n",
    "        os.makedirs(target_directory)\n",
    "\n",
    "    # Save the DataFrame to CSV in the target directory\n",
    "    df.to_csv('../staging_2/'+csv_file.split(\".\")[0]+'/'+csv_file, index=False)\n"
   ]
  },
  {
   "cell_type": "code",
   "execution_count": 7,
   "id": "e8b1a91b",
   "metadata": {},
   "outputs": [],
   "source": [
    "# calling the function for each file \n",
    "\n",
    "csv_to_staging2('brands.csv','staging_1/brands')\n",
    "csv_to_staging2('categories.csv','staging_1/categories')\n",
    "csv_to_staging2('products.csv','staging_1/products')\n",
    "csv_to_staging2('staffs.csv','staging_1/staffs')\n",
    "csv_to_staging2('stocks.csv','staging_1/stocks')\n",
    "csv_to_staging2('stores.csv','staging_1/stores')\n",
    "csv_to_staging2('exchange.csv','staging_1/exchange')"
   ]
  }
 ],
 "metadata": {
  "kernelspec": {
   "display_name": "Python 3 (ipykernel)",
   "language": "python",
   "name": "python3"
  },
  "language_info": {
   "codemirror_mode": {
    "name": "ipython",
    "version": 3
   },
   "file_extension": ".py",
   "mimetype": "text/x-python",
   "name": "python",
   "nbconvert_exporter": "python",
   "pygments_lexer": "ipython3",
   "version": "3.9.12"
  }
 },
 "nbformat": 4,
 "nbformat_minor": 5
}
