{
 "cells": [
  {
   "cell_type": "code",
   "execution_count": null,
   "id": "eca19021",
   "metadata": {},
   "outputs": [],
   "source": [
    "import requests\n",
    "import json\n",
    "import pandas as pd\n",
    "from datetime import datetime\n",
    "response = requests.get(\"https://openexchangerates.org/api/latest.json\" , params={'app_id':'5301bb1de91b4c3b80856b5671d23fd8'})\n",
    "\n",
    "data = response.json()\n",
    "df = pd.json_normalize(data)\n",
    "df = df[['timestamp', 'rates.EGP']]\n",
    "df['extraction_time']=datetime.now()\n",
    "df['source']='api'\n"
   ]
  },
  {
   "cell_type": "code",
   "execution_count": null,
   "id": "963ff9c6",
   "metadata": {},
   "outputs": [],
   "source": [
    "df.to_csv('../landing/exchange/exchange.csv', index=False)"
   ]
  }
 ],
 "metadata": {
  "kernelspec": {
   "display_name": "Python 3 (ipykernel)",
   "language": "python",
   "name": "python3"
  },
  "language_info": {
   "codemirror_mode": {
    "name": "ipython",
    "version": 3
   },
   "file_extension": ".py",
   "mimetype": "text/x-python",
   "name": "python",
   "nbconvert_exporter": "python",
   "pygments_lexer": "ipython3",
   "version": "3.9.12"
  }
 },
 "nbformat": 4,
 "nbformat_minor": 5
}
