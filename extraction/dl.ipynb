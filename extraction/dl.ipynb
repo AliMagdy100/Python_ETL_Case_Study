{
 "cells": [
  {
   "cell_type": "code",
   "execution_count": 1,
   "id": "56575c0b",
   "metadata": {},
   "outputs": [],
   "source": [
    "import pandas as pd\n",
    "from datetime import datetime\n",
    "import os\n",
    "\n",
    "def csv_to_landing(csv_file, folder_path):\n",
    "    # Read the CSV file into a DataFrame\n",
    "    df = pd.read_csv('..'+'/'+folder_path+'/'+csv_file)\n",
    "\n",
    "    # Add extraction time column\n",
    "    extraction_time = datetime.now()\n",
    "    df['extraction_time'] = extraction_time\n",
    "\n",
    "    # Add source folder column\n",
    "    df['source_folder'] = folder_path\n",
    "\n",
    "    # Create the target directory if it does not exist\n",
    "    target_directory = '../landing/' + csv_file.split(\".\")[0]\n",
    "    if not os.path.exists(target_directory):\n",
    "        os.makedirs(target_directory)\n",
    "\n",
    "    # Save the DataFrame to CSV in the target directory\n",
    "    df.to_csv('../landing/'+csv_file.split(\".\")[0]+'/'+csv_file, index=False)\n"
   ]
  },
  {
   "cell_type": "code",
   "execution_count": 8,
   "id": "2095ce46",
   "metadata": {},
   "outputs": [],
   "source": [
    "# calling the function for each file \n",
    "\n",
    "csv_to_landing('brands.csv','datalake/bikestore_dim/brands')\n",
    "csv_to_landing('categories.csv','datalake/bikestore_dim/categories')\n",
    "csv_to_landing('customers.csv','datalake/bikestore_dim/customers')\n",
    "csv_to_landing('products.csv','datalake/bikestore_dim/products')\n",
    "csv_to_landing('staffs.csv','datalake/bikestore_dim/staffs')\n",
    "csv_to_landing('stocks.csv','datalake/bikestore_dim/stocks')\n",
    "csv_to_landing('stores.csv','datalake/bikestore_dim/stores')"
   ]
  }
 ],
 "metadata": {
  "kernelspec": {
   "display_name": "Python 3 (ipykernel)",
   "language": "python",
   "name": "python3"
  },
  "language_info": {
   "codemirror_mode": {
    "name": "ipython",
    "version": 3
   },
   "file_extension": ".py",
   "mimetype": "text/x-python",
   "name": "python",
   "nbconvert_exporter": "python",
   "pygments_lexer": "ipython3",
   "version": "3.9.12"
  }
 },
 "nbformat": 4,
 "nbformat_minor": 5
}
